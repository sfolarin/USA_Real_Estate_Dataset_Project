{
 "cells": [
  {
   "cell_type": "markdown",
   "id": "6e350fcb",
   "metadata": {},
   "source": [
    "Can we predict housing prices based on the features?\n",
    "\n",
    "How are housing price and location attributes correlated?\n",
    "\n",
    "What is the overall picture of the USA housing prices w.r.t. locations?\n",
    "\n",
    "Do house attributes (bedroom, bathroom count) strongly correlate with the price? \n",
    "\n",
    "Are there any hidden patterns?"
   ]
  },
  {
   "cell_type": "code",
   "execution_count": 100,
   "id": "6a5bd39f",
   "metadata": {},
   "outputs": [],
   "source": [
    "import warnings\n",
    "from glob import glob\n",
    "import numpy as np\n",
    "import pandas as pd\n",
    "import math\n",
    "import plotly.express as px\n",
    "from matplotlib import pyplot as plt\n",
    "import plotly.graph_objects as go\n",
    "import wqet_grader\n",
    "from IPython.display import VimeoVideo\n",
    "from ipywidgets import Dropdown, FloatSlider, IntSlider, interact\n",
    "from sklearn.impute import SimpleImputer\n",
    "from sklearn.linear_model import LinearRegression\n",
    "from sklearn.metrics import mean_absolute_error\n",
    "from sklearn.pipeline import Pipeline, make_pipeline\n",
    "from sklearn.linear_model import SGDRegressor\n",
    "from sklearn.utils.validation import check_is_fitted\n",
    "from sklearn.preprocessing import OneHotEncoder\n",
    "warnings.simplefilter(action=\"ignore\", category=FutureWarning)\n",
    "from sklearn.model_selection import train_test_split\n",
    "#wqet_grader.init(\"Project 2 Assessment\")"
   ]
  },
  {
   "cell_type": "markdown",
   "id": "510b85fb",
   "metadata": {},
   "source": [
    "# Data Wrangling"
   ]
  },
  {
   "cell_type": "code",
   "execution_count": 3,
   "id": "c2482835",
   "metadata": {},
   "outputs": [],
   "source": [
    "def wrangle(filepath):\n",
    "    df = pd.read_csv(filepath)\n",
    "    \n",
    "    # Dropping Columns that do contribute to price\n",
    "    df =df.drop(columns = [\"prev_sold_date\", \"status\"])\n",
    "    \n",
    "    #Dropping columns with Low Correlation\n",
    "    df =df.drop(columns =[\"city\",\"zip_code\"])\n",
    "    \n",
    "    #Removing outliers in Price\n",
    "    low, high = df[\"price\"].quantile([0.1,0.9]).head()\n",
    "    df_mask = df[\"price\"].between(low,high)\n",
    "    df = df[df_mask]\n",
    "    \n",
    "    #Removing outliers in Bath\n",
    "    low, high = df[\"bath\"].quantile([0.1,0.9]).head()\n",
    "    df_mask = df[\"bath\"].between(low,high)\n",
    "    df = df[df_mask]\n",
    "    \n",
    "    #Removing outliers in Bed\n",
    "    low, high = df[\"bed\"].quantile([0.2,0.8]).head()\n",
    "    df_mask = df[\"bed\"].between(low,high)\n",
    "    df = df[df_mask]\n",
    "    \n",
    "    #Removing outliers in house_size\n",
    "    low, high = df[\"house_size\"].quantile([0.1,0.9]).head()\n",
    "    df_mask = df[\"house_size\"].between(low,high)\n",
    "    df = df[df_mask]\n",
    "    \n",
    "    #Removing outliers in acre_lot\n",
    "    low, high = df[\"acre_lot\"].quantile([0.1,0.9]).head()\n",
    "    df_mask = df[\"acre_lot\"].between(low,high)\n",
    "    df = df[df_mask]\n",
    "    \n",
    "    return df"
   ]
  },
  {
   "cell_type": "code",
   "execution_count": 4,
   "id": "59dd6b93",
   "metadata": {},
   "outputs": [],
   "source": [
    "df = wrangle(\"realtor-data.zip.csv\")"
   ]
  },
  {
   "cell_type": "code",
   "execution_count": 5,
   "id": "99d60631",
   "metadata": {},
   "outputs": [
    {
     "data": {
      "text/html": [
       "<div>\n",
       "<style scoped>\n",
       "    .dataframe tbody tr th:only-of-type {\n",
       "        vertical-align: middle;\n",
       "    }\n",
       "\n",
       "    .dataframe tbody tr th {\n",
       "        vertical-align: top;\n",
       "    }\n",
       "\n",
       "    .dataframe thead th {\n",
       "        text-align: right;\n",
       "    }\n",
       "</style>\n",
       "<table border=\"1\" class=\"dataframe\">\n",
       "  <thead>\n",
       "    <tr style=\"text-align: right;\">\n",
       "      <th></th>\n",
       "      <th>bed</th>\n",
       "      <th>bath</th>\n",
       "      <th>acre_lot</th>\n",
       "      <th>house_size</th>\n",
       "      <th>price</th>\n",
       "    </tr>\n",
       "  </thead>\n",
       "  <tbody>\n",
       "    <tr>\n",
       "      <th>count</th>\n",
       "      <td>182335.000000</td>\n",
       "      <td>182335.000000</td>\n",
       "      <td>182335.000000</td>\n",
       "      <td>182335.000000</td>\n",
       "      <td>1.823350e+05</td>\n",
       "    </tr>\n",
       "    <tr>\n",
       "      <th>mean</th>\n",
       "      <td>3.178627</td>\n",
       "      <td>2.171300</td>\n",
       "      <td>0.444123</td>\n",
       "      <td>1699.444018</td>\n",
       "      <td>4.513090e+05</td>\n",
       "    </tr>\n",
       "    <tr>\n",
       "      <th>std</th>\n",
       "      <td>0.630495</td>\n",
       "      <td>0.738633</td>\n",
       "      <td>0.442357</td>\n",
       "      <td>457.277383</td>\n",
       "      <td>2.498926e+05</td>\n",
       "    </tr>\n",
       "    <tr>\n",
       "      <th>min</th>\n",
       "      <td>2.000000</td>\n",
       "      <td>1.000000</td>\n",
       "      <td>0.060000</td>\n",
       "      <td>978.000000</td>\n",
       "      <td>1.350000e+05</td>\n",
       "    </tr>\n",
       "    <tr>\n",
       "      <th>25%</th>\n",
       "      <td>3.000000</td>\n",
       "      <td>2.000000</td>\n",
       "      <td>0.150000</td>\n",
       "      <td>1320.000000</td>\n",
       "      <td>2.750000e+05</td>\n",
       "    </tr>\n",
       "    <tr>\n",
       "      <th>50%</th>\n",
       "      <td>3.000000</td>\n",
       "      <td>2.000000</td>\n",
       "      <td>0.260000</td>\n",
       "      <td>1634.000000</td>\n",
       "      <td>3.850000e+05</td>\n",
       "    </tr>\n",
       "    <tr>\n",
       "      <th>75%</th>\n",
       "      <td>4.000000</td>\n",
       "      <td>3.000000</td>\n",
       "      <td>0.550000</td>\n",
       "      <td>2030.000000</td>\n",
       "      <td>5.650000e+05</td>\n",
       "    </tr>\n",
       "    <tr>\n",
       "      <th>max</th>\n",
       "      <td>4.000000</td>\n",
       "      <td>4.000000</td>\n",
       "      <td>2.080000</td>\n",
       "      <td>2750.000000</td>\n",
       "      <td>1.650000e+06</td>\n",
       "    </tr>\n",
       "  </tbody>\n",
       "</table>\n",
       "</div>"
      ],
      "text/plain": [
       "                 bed           bath       acre_lot     house_size  \\\n",
       "count  182335.000000  182335.000000  182335.000000  182335.000000   \n",
       "mean        3.178627       2.171300       0.444123    1699.444018   \n",
       "std         0.630495       0.738633       0.442357     457.277383   \n",
       "min         2.000000       1.000000       0.060000     978.000000   \n",
       "25%         3.000000       2.000000       0.150000    1320.000000   \n",
       "50%         3.000000       2.000000       0.260000    1634.000000   \n",
       "75%         4.000000       3.000000       0.550000    2030.000000   \n",
       "max         4.000000       4.000000       2.080000    2750.000000   \n",
       "\n",
       "              price  \n",
       "count  1.823350e+05  \n",
       "mean   4.513090e+05  \n",
       "std    2.498926e+05  \n",
       "min    1.350000e+05  \n",
       "25%    2.750000e+05  \n",
       "50%    3.850000e+05  \n",
       "75%    5.650000e+05  \n",
       "max    1.650000e+06  "
      ]
     },
     "execution_count": 5,
     "metadata": {},
     "output_type": "execute_result"
    }
   ],
   "source": [
    "df.describe()"
   ]
  },
  {
   "cell_type": "code",
   "execution_count": 6,
   "id": "c04bac67",
   "metadata": {},
   "outputs": [
    {
     "data": {
      "text/plain": [
       "182335"
      ]
     },
     "execution_count": 6,
     "metadata": {},
     "output_type": "execute_result"
    }
   ],
   "source": [
    "len(df)"
   ]
  },
  {
   "cell_type": "code",
   "execution_count": 7,
   "id": "8b83479a",
   "metadata": {},
   "outputs": [
    {
     "name": "stdout",
     "output_type": "stream",
     "text": [
      "<class 'pandas.core.frame.DataFrame'>\n",
      "Int64Index: 182335 entries, 3 to 904918\n",
      "Data columns (total 6 columns):\n",
      " #   Column      Non-Null Count   Dtype  \n",
      "---  ------      --------------   -----  \n",
      " 0   bed         182335 non-null  float64\n",
      " 1   bath        182335 non-null  float64\n",
      " 2   acre_lot    182335 non-null  float64\n",
      " 3   state       182335 non-null  object \n",
      " 4   house_size  182335 non-null  float64\n",
      " 5   price       182335 non-null  float64\n",
      "dtypes: float64(5), object(1)\n",
      "memory usage: 9.7+ MB\n"
     ]
    }
   ],
   "source": [
    "df.info()"
   ]
  },
  {
   "cell_type": "markdown",
   "id": "1ea716d8",
   "metadata": {},
   "source": [
    "# Data Exploration and Visualization"
   ]
  },
  {
   "cell_type": "markdown",
   "id": "90ab1cb8",
   "metadata": {},
   "source": [
    "### Groupby State"
   ]
  },
  {
   "cell_type": "code",
   "execution_count": 8,
   "id": "b45629bc",
   "metadata": {},
   "outputs": [],
   "source": [
    "groupby_state = pd.Series(df.groupby([\"state\"])[\"price\"].mean())"
   ]
  },
  {
   "cell_type": "code",
   "execution_count": 9,
   "id": "e72e15a2",
   "metadata": {},
   "outputs": [
    {
     "data": {
      "image/png": "[encoded data removed]",
      "text/plain": [
       "<Figure size 720x576 with 1 Axes>"
      ]
     },
     "metadata": {
      "needs_background": "light"
     },
     "output_type": "display_data"
    }
   ],
   "source": [
    "fig, ax = plt.subplots(figsize=(10,8))\n",
    "\n",
    "groupby_state.plot(kind=\"barh\", ax=ax, color = \"red\")\n",
    "ax.set(xlabel=\"Price\");"
   ]
  },
  {
   "cell_type": "code",
   "execution_count": 10,
   "id": "80dd97cc",
   "metadata": {},
   "outputs": [
    {
     "data": {
      "text/html": [
       "<div>\n",
       "<style scoped>\n",
       "    .dataframe tbody tr th:only-of-type {\n",
       "        vertical-align: middle;\n",
       "    }\n",
       "\n",
       "    .dataframe tbody tr th {\n",
       "        vertical-align: top;\n",
       "    }\n",
       "\n",
       "    .dataframe thead th {\n",
       "        text-align: right;\n",
       "    }\n",
       "</style>\n",
       "<table border=\"1\" class=\"dataframe\">\n",
       "  <thead>\n",
       "    <tr style=\"text-align: right;\">\n",
       "      <th></th>\n",
       "      <th>bed</th>\n",
       "      <th>bath</th>\n",
       "      <th>acre_lot</th>\n",
       "      <th>state</th>\n",
       "      <th>house_size</th>\n",
       "      <th>price</th>\n",
       "    </tr>\n",
       "  </thead>\n",
       "  <tbody>\n",
       "    <tr>\n",
       "      <th>3</th>\n",
       "      <td>4.0</td>\n",
       "      <td>2.0</td>\n",
       "      <td>0.10</td>\n",
       "      <td>Puerto Rico</td>\n",
       "      <td>1800.0</td>\n",
       "      <td>145000.0</td>\n",
       "    </tr>\n",
       "    <tr>\n",
       "      <th>5</th>\n",
       "      <td>4.0</td>\n",
       "      <td>3.0</td>\n",
       "      <td>0.46</td>\n",
       "      <td>Puerto Rico</td>\n",
       "      <td>2520.0</td>\n",
       "      <td>179000.0</td>\n",
       "    </tr>\n",
       "    <tr>\n",
       "      <th>11</th>\n",
       "      <td>3.0</td>\n",
       "      <td>2.0</td>\n",
       "      <td>0.08</td>\n",
       "      <td>Puerto Rico</td>\n",
       "      <td>1045.0</td>\n",
       "      <td>150000.0</td>\n",
       "    </tr>\n",
       "    <tr>\n",
       "      <th>22</th>\n",
       "      <td>3.0</td>\n",
       "      <td>1.0</td>\n",
       "      <td>2.00</td>\n",
       "      <td>Puerto Rico</td>\n",
       "      <td>1213.0</td>\n",
       "      <td>189000.0</td>\n",
       "    </tr>\n",
       "    <tr>\n",
       "      <th>25</th>\n",
       "      <td>3.0</td>\n",
       "      <td>2.0</td>\n",
       "      <td>0.28</td>\n",
       "      <td>Puerto Rico</td>\n",
       "      <td>1500.0</td>\n",
       "      <td>255000.0</td>\n",
       "    </tr>\n",
       "    <tr>\n",
       "      <th>...</th>\n",
       "      <td>...</td>\n",
       "      <td>...</td>\n",
       "      <td>...</td>\n",
       "      <td>...</td>\n",
       "      <td>...</td>\n",
       "      <td>...</td>\n",
       "    </tr>\n",
       "    <tr>\n",
       "      <th>904904</th>\n",
       "      <td>3.0</td>\n",
       "      <td>2.0</td>\n",
       "      <td>0.34</td>\n",
       "      <td>New York</td>\n",
       "      <td>1560.0</td>\n",
       "      <td>690000.0</td>\n",
       "    </tr>\n",
       "    <tr>\n",
       "      <th>904907</th>\n",
       "      <td>3.0</td>\n",
       "      <td>4.0</td>\n",
       "      <td>0.15</td>\n",
       "      <td>New York</td>\n",
       "      <td>2600.0</td>\n",
       "      <td>749900.0</td>\n",
       "    </tr>\n",
       "    <tr>\n",
       "      <th>904908</th>\n",
       "      <td>3.0</td>\n",
       "      <td>4.0</td>\n",
       "      <td>1.63</td>\n",
       "      <td>New York</td>\n",
       "      <td>2688.0</td>\n",
       "      <td>1475000.0</td>\n",
       "    </tr>\n",
       "    <tr>\n",
       "      <th>904916</th>\n",
       "      <td>3.0</td>\n",
       "      <td>3.0</td>\n",
       "      <td>2.03</td>\n",
       "      <td>New York</td>\n",
       "      <td>2182.0</td>\n",
       "      <td>899000.0</td>\n",
       "    </tr>\n",
       "    <tr>\n",
       "      <th>904918</th>\n",
       "      <td>4.0</td>\n",
       "      <td>3.0</td>\n",
       "      <td>0.23</td>\n",
       "      <td>New York</td>\n",
       "      <td>2500.0</td>\n",
       "      <td>1250000.0</td>\n",
       "    </tr>\n",
       "  </tbody>\n",
       "</table>\n",
       "<p>182335 rows × 6 columns</p>\n",
       "</div>"
      ],
      "text/plain": [
       "        bed  bath  acre_lot        state  house_size      price\n",
       "3       4.0   2.0      0.10  Puerto Rico      1800.0   145000.0\n",
       "5       4.0   3.0      0.46  Puerto Rico      2520.0   179000.0\n",
       "11      3.0   2.0      0.08  Puerto Rico      1045.0   150000.0\n",
       "22      3.0   1.0      2.00  Puerto Rico      1213.0   189000.0\n",
       "25      3.0   2.0      0.28  Puerto Rico      1500.0   255000.0\n",
       "...     ...   ...       ...          ...         ...        ...\n",
       "904904  3.0   2.0      0.34     New York      1560.0   690000.0\n",
       "904907  3.0   4.0      0.15     New York      2600.0   749900.0\n",
       "904908  3.0   4.0      1.63     New York      2688.0  1475000.0\n",
       "904916  3.0   3.0      2.03     New York      2182.0   899000.0\n",
       "904918  4.0   3.0      0.23     New York      2500.0  1250000.0\n",
       "\n",
       "[182335 rows x 6 columns]"
      ]
     },
     "execution_count": 10,
     "metadata": {},
     "output_type": "execute_result"
    }
   ],
   "source": [
    "df"
   ]
  },
  {
   "cell_type": "code",
   "execution_count": 11,
   "id": "e0ba215e",
   "metadata": {},
   "outputs": [],
   "source": [
    "### Checking the percentage of  number of missing values in each column"
   ]
  },
  {
   "cell_type": "code",
   "execution_count": 12,
   "id": "a0649976",
   "metadata": {},
   "outputs": [
    {
     "data": {
      "text/plain": [
       "bed           0.0\n",
       "bath          0.0\n",
       "acre_lot      0.0\n",
       "state         0.0\n",
       "house_size    0.0\n",
       "price         0.0\n",
       "dtype: float64"
      ]
     },
     "execution_count": 12,
     "metadata": {},
     "output_type": "execute_result"
    }
   ],
   "source": [
    "df.isnull().sum()/len(df) * 100"
   ]
  },
  {
   "cell_type": "code",
   "execution_count": 13,
   "id": "a3c3a7f5",
   "metadata": {},
   "outputs": [],
   "source": [
    "## Checking the cardinality "
   ]
  },
  {
   "cell_type": "code",
   "execution_count": 14,
   "id": "e51b8ac7",
   "metadata": {},
   "outputs": [
    {
     "data": {
      "text/plain": [
       "bed              3\n",
       "bath             4\n",
       "acre_lot       203\n",
       "state           13\n",
       "house_size    1764\n",
       "price         2060\n",
       "dtype: int64"
      ]
     },
     "execution_count": 14,
     "metadata": {},
     "output_type": "execute_result"
    }
   ],
   "source": [
    "df.nunique()"
   ]
  },
  {
   "cell_type": "code",
   "execution_count": 15,
   "id": "5adcea00",
   "metadata": {},
   "outputs": [],
   "source": [
    "## Checking if there is a correlation between the Features and price"
   ]
  },
  {
   "cell_type": "code",
   "execution_count": 16,
   "id": "26ef19fa",
   "metadata": {},
   "outputs": [
    {
     "data": {
      "text/html": [
       "<div>\n",
       "<style scoped>\n",
       "    .dataframe tbody tr th:only-of-type {\n",
       "        vertical-align: middle;\n",
       "    }\n",
       "\n",
       "    .dataframe tbody tr th {\n",
       "        vertical-align: top;\n",
       "    }\n",
       "\n",
       "    .dataframe thead th {\n",
       "        text-align: right;\n",
       "    }\n",
       "</style>\n",
       "<table border=\"1\" class=\"dataframe\">\n",
       "  <thead>\n",
       "    <tr style=\"text-align: right;\">\n",
       "      <th></th>\n",
       "      <th>bed</th>\n",
       "      <th>bath</th>\n",
       "      <th>acre_lot</th>\n",
       "      <th>house_size</th>\n",
       "      <th>price</th>\n",
       "    </tr>\n",
       "  </thead>\n",
       "  <tbody>\n",
       "    <tr>\n",
       "      <th>bed</th>\n",
       "      <td>1.000000</td>\n",
       "      <td>0.645497</td>\n",
       "      <td>-0.344138</td>\n",
       "      <td>0.854500</td>\n",
       "      <td>-0.447467</td>\n",
       "    </tr>\n",
       "    <tr>\n",
       "      <th>bath</th>\n",
       "      <td>0.645497</td>\n",
       "      <td>1.000000</td>\n",
       "      <td>-0.675189</td>\n",
       "      <td>0.794539</td>\n",
       "      <td>-0.080233</td>\n",
       "    </tr>\n",
       "    <tr>\n",
       "      <th>acre_lot</th>\n",
       "      <td>-0.344138</td>\n",
       "      <td>-0.675189</td>\n",
       "      <td>1.000000</td>\n",
       "      <td>-0.239211</td>\n",
       "      <td>0.155679</td>\n",
       "    </tr>\n",
       "    <tr>\n",
       "      <th>house_size</th>\n",
       "      <td>0.854500</td>\n",
       "      <td>0.794539</td>\n",
       "      <td>-0.239211</td>\n",
       "      <td>1.000000</td>\n",
       "      <td>-0.024717</td>\n",
       "    </tr>\n",
       "    <tr>\n",
       "      <th>price</th>\n",
       "      <td>-0.447467</td>\n",
       "      <td>-0.080233</td>\n",
       "      <td>0.155679</td>\n",
       "      <td>-0.024717</td>\n",
       "      <td>1.000000</td>\n",
       "    </tr>\n",
       "  </tbody>\n",
       "</table>\n",
       "</div>"
      ],
      "text/plain": [
       "                 bed      bath  acre_lot  house_size     price\n",
       "bed         1.000000  0.645497 -0.344138    0.854500 -0.447467\n",
       "bath        0.645497  1.000000 -0.675189    0.794539 -0.080233\n",
       "acre_lot   -0.344138 -0.675189  1.000000   -0.239211  0.155679\n",
       "house_size  0.854500  0.794539 -0.239211    1.000000 -0.024717\n",
       "price      -0.447467 -0.080233  0.155679   -0.024717  1.000000"
      ]
     },
     "execution_count": 16,
     "metadata": {},
     "output_type": "execute_result"
    }
   ],
   "source": [
    "corr = df.head().corr()\n",
    "corr"
   ]
  },
  {
   "cell_type": "code",
   "execution_count": 17,
   "id": "c8561886",
   "metadata": {},
   "outputs": [
    {
     "data": {
      "text/html": [
       "<div>\n",
       "<style scoped>\n",
       "    .dataframe tbody tr th:only-of-type {\n",
       "        vertical-align: middle;\n",
       "    }\n",
       "\n",
       "    .dataframe tbody tr th {\n",
       "        vertical-align: top;\n",
       "    }\n",
       "\n",
       "    .dataframe thead th {\n",
       "        text-align: right;\n",
       "    }\n",
       "</style>\n",
       "<table border=\"1\" class=\"dataframe\">\n",
       "  <thead>\n",
       "    <tr style=\"text-align: right;\">\n",
       "      <th></th>\n",
       "      <th>bed</th>\n",
       "      <th>bath</th>\n",
       "      <th>acre_lot</th>\n",
       "      <th>house_size</th>\n",
       "      <th>price</th>\n",
       "    </tr>\n",
       "  </thead>\n",
       "  <tbody>\n",
       "    <tr>\n",
       "      <th>bed</th>\n",
       "      <td>1.000000</td>\n",
       "      <td>0.645497</td>\n",
       "      <td>-0.344138</td>\n",
       "      <td>0.854500</td>\n",
       "      <td>-0.447467</td>\n",
       "    </tr>\n",
       "    <tr>\n",
       "      <th>bath</th>\n",
       "      <td>0.645497</td>\n",
       "      <td>1.000000</td>\n",
       "      <td>-0.675189</td>\n",
       "      <td>0.794539</td>\n",
       "      <td>-0.080233</td>\n",
       "    </tr>\n",
       "    <tr>\n",
       "      <th>acre_lot</th>\n",
       "      <td>-0.344138</td>\n",
       "      <td>-0.675189</td>\n",
       "      <td>1.000000</td>\n",
       "      <td>-0.239211</td>\n",
       "      <td>0.155679</td>\n",
       "    </tr>\n",
       "    <tr>\n",
       "      <th>house_size</th>\n",
       "      <td>0.854500</td>\n",
       "      <td>0.794539</td>\n",
       "      <td>-0.239211</td>\n",
       "      <td>1.000000</td>\n",
       "      <td>-0.024717</td>\n",
       "    </tr>\n",
       "    <tr>\n",
       "      <th>price</th>\n",
       "      <td>-0.447467</td>\n",
       "      <td>-0.080233</td>\n",
       "      <td>0.155679</td>\n",
       "      <td>-0.024717</td>\n",
       "      <td>1.000000</td>\n",
       "    </tr>\n",
       "  </tbody>\n",
       "</table>\n",
       "</div>"
      ],
      "text/plain": [
       "                 bed      bath  acre_lot  house_size     price\n",
       "bed         1.000000  0.645497 -0.344138    0.854500 -0.447467\n",
       "bath        0.645497  1.000000 -0.675189    0.794539 -0.080233\n",
       "acre_lot   -0.344138 -0.675189  1.000000   -0.239211  0.155679\n",
       "house_size  0.854500  0.794539 -0.239211    1.000000 -0.024717\n",
       "price      -0.447467 -0.080233  0.155679   -0.024717  1.000000"
      ]
     },
     "execution_count": 17,
     "metadata": {},
     "output_type": "execute_result"
    }
   ],
   "source": [
    "corr = df.select_dtypes(\"number\").head().corr()\n",
    "corr"
   ]
  },
  {
   "cell_type": "code",
   "execution_count": 18,
   "id": "a78a93ef",
   "metadata": {},
   "outputs": [
    {
     "data": {
      "text/plain": [
       "<Axes: >"
      ]
     },
     "execution_count": 18,
     "metadata": {},
     "output_type": "execute_result"
    },
    {
     "data": {
      "image/png": "[encoded data removed]",
      "text/plain": [
       "<Figure size 432x288 with 2 Axes>"
      ]
     },
     "metadata": {
      "needs_background": "light"
     },
     "output_type": "display_data"
    }
   ],
   "source": [
    "import seaborn as sns\n",
    "sns.heatmap(corr)"
   ]
  },
  {
   "cell_type": "code",
   "execution_count": 19,
   "id": "2d8de331",
   "metadata": {},
   "outputs": [
    {
     "data": {
      "text/plain": [
       "bed              3\n",
       "bath             4\n",
       "acre_lot       203\n",
       "house_size    1764\n",
       "price         2060\n",
       "dtype: int64"
      ]
     },
     "execution_count": 19,
     "metadata": {},
     "output_type": "execute_result"
    }
   ],
   "source": [
    "df.select_dtypes(\"number\").nunique()"
   ]
  },
  {
   "cell_type": "code",
   "execution_count": 20,
   "id": "a20d38f5",
   "metadata": {},
   "outputs": [
    {
     "data": {
      "text/html": [
       "<div>\n",
       "<style scoped>\n",
       "    .dataframe tbody tr th:only-of-type {\n",
       "        vertical-align: middle;\n",
       "    }\n",
       "\n",
       "    .dataframe tbody tr th {\n",
       "        vertical-align: top;\n",
       "    }\n",
       "\n",
       "    .dataframe thead th {\n",
       "        text-align: right;\n",
       "    }\n",
       "</style>\n",
       "<table border=\"1\" class=\"dataframe\">\n",
       "  <thead>\n",
       "    <tr style=\"text-align: right;\">\n",
       "      <th></th>\n",
       "      <th>bed</th>\n",
       "      <th>bath</th>\n",
       "      <th>acre_lot</th>\n",
       "      <th>state</th>\n",
       "      <th>house_size</th>\n",
       "      <th>price</th>\n",
       "    </tr>\n",
       "  </thead>\n",
       "  <tbody>\n",
       "    <tr>\n",
       "      <th>3</th>\n",
       "      <td>4.0</td>\n",
       "      <td>2.0</td>\n",
       "      <td>0.10</td>\n",
       "      <td>Puerto Rico</td>\n",
       "      <td>1800.0</td>\n",
       "      <td>145000.0</td>\n",
       "    </tr>\n",
       "    <tr>\n",
       "      <th>5</th>\n",
       "      <td>4.0</td>\n",
       "      <td>3.0</td>\n",
       "      <td>0.46</td>\n",
       "      <td>Puerto Rico</td>\n",
       "      <td>2520.0</td>\n",
       "      <td>179000.0</td>\n",
       "    </tr>\n",
       "    <tr>\n",
       "      <th>11</th>\n",
       "      <td>3.0</td>\n",
       "      <td>2.0</td>\n",
       "      <td>0.08</td>\n",
       "      <td>Puerto Rico</td>\n",
       "      <td>1045.0</td>\n",
       "      <td>150000.0</td>\n",
       "    </tr>\n",
       "    <tr>\n",
       "      <th>22</th>\n",
       "      <td>3.0</td>\n",
       "      <td>1.0</td>\n",
       "      <td>2.00</td>\n",
       "      <td>Puerto Rico</td>\n",
       "      <td>1213.0</td>\n",
       "      <td>189000.0</td>\n",
       "    </tr>\n",
       "    <tr>\n",
       "      <th>25</th>\n",
       "      <td>3.0</td>\n",
       "      <td>2.0</td>\n",
       "      <td>0.28</td>\n",
       "      <td>Puerto Rico</td>\n",
       "      <td>1500.0</td>\n",
       "      <td>255000.0</td>\n",
       "    </tr>\n",
       "    <tr>\n",
       "      <th>...</th>\n",
       "      <td>...</td>\n",
       "      <td>...</td>\n",
       "      <td>...</td>\n",
       "      <td>...</td>\n",
       "      <td>...</td>\n",
       "      <td>...</td>\n",
       "    </tr>\n",
       "    <tr>\n",
       "      <th>904904</th>\n",
       "      <td>3.0</td>\n",
       "      <td>2.0</td>\n",
       "      <td>0.34</td>\n",
       "      <td>New York</td>\n",
       "      <td>1560.0</td>\n",
       "      <td>690000.0</td>\n",
       "    </tr>\n",
       "    <tr>\n",
       "      <th>904907</th>\n",
       "      <td>3.0</td>\n",
       "      <td>4.0</td>\n",
       "      <td>0.15</td>\n",
       "      <td>New York</td>\n",
       "      <td>2600.0</td>\n",
       "      <td>749900.0</td>\n",
       "    </tr>\n",
       "    <tr>\n",
       "      <th>904908</th>\n",
       "      <td>3.0</td>\n",
       "      <td>4.0</td>\n",
       "      <td>1.63</td>\n",
       "      <td>New York</td>\n",
       "      <td>2688.0</td>\n",
       "      <td>1475000.0</td>\n",
       "    </tr>\n",
       "    <tr>\n",
       "      <th>904916</th>\n",
       "      <td>3.0</td>\n",
       "      <td>3.0</td>\n",
       "      <td>2.03</td>\n",
       "      <td>New York</td>\n",
       "      <td>2182.0</td>\n",
       "      <td>899000.0</td>\n",
       "    </tr>\n",
       "    <tr>\n",
       "      <th>904918</th>\n",
       "      <td>4.0</td>\n",
       "      <td>3.0</td>\n",
       "      <td>0.23</td>\n",
       "      <td>New York</td>\n",
       "      <td>2500.0</td>\n",
       "      <td>1250000.0</td>\n",
       "    </tr>\n",
       "  </tbody>\n",
       "</table>\n",
       "<p>182335 rows × 6 columns</p>\n",
       "</div>"
      ],
      "text/plain": [
       "        bed  bath  acre_lot        state  house_size      price\n",
       "3       4.0   2.0      0.10  Puerto Rico      1800.0   145000.0\n",
       "5       4.0   3.0      0.46  Puerto Rico      2520.0   179000.0\n",
       "11      3.0   2.0      0.08  Puerto Rico      1045.0   150000.0\n",
       "22      3.0   1.0      2.00  Puerto Rico      1213.0   189000.0\n",
       "25      3.0   2.0      0.28  Puerto Rico      1500.0   255000.0\n",
       "...     ...   ...       ...          ...         ...        ...\n",
       "904904  3.0   2.0      0.34     New York      1560.0   690000.0\n",
       "904907  3.0   4.0      0.15     New York      2600.0   749900.0\n",
       "904908  3.0   4.0      1.63     New York      2688.0  1475000.0\n",
       "904916  3.0   3.0      2.03     New York      2182.0   899000.0\n",
       "904918  4.0   3.0      0.23     New York      2500.0  1250000.0\n",
       "\n",
       "[182335 rows x 6 columns]"
      ]
     },
     "execution_count": 20,
     "metadata": {},
     "output_type": "execute_result"
    }
   ],
   "source": [
    "df"
   ]
  },
  {
   "cell_type": "code",
   "execution_count": 194,
   "id": "885017f6",
   "metadata": {},
   "outputs": [],
   "source": [
    "##Dealing with the missing values"
   ]
  },
  {
   "cell_type": "code",
   "execution_count": 21,
   "id": "3a2b99ef",
   "metadata": {},
   "outputs": [
    {
     "data": {
      "text/plain": [
       "<Axes: >"
      ]
     },
     "execution_count": 21,
     "metadata": {},
     "output_type": "execute_result"
    },
    {
     "data": {
      "image/png": "[encoded data removed]",
      "text/plain": [
       "<Figure size 432x288 with 1 Axes>"
      ]
     },
     "metadata": {
      "needs_background": "light"
     },
     "output_type": "display_data"
    }
   ],
   "source": [
    "df.plot(kind=\"box\", vert=False)"
   ]
  },
  {
   "cell_type": "code",
   "execution_count": 22,
   "id": "7c3c37a3",
   "metadata": {},
   "outputs": [
    {
     "data": {
      "text/plain": [
       "<Axes: >"
      ]
     },
     "execution_count": 22,
     "metadata": {},
     "output_type": "execute_result"
    },
    {
     "data": {
      "image/png": "[encoded data removed]",
      "text/plain": [
       "<Figure size 432x288 with 1 Axes>"
      ]
     },
     "metadata": {
      "needs_background": "light"
     },
     "output_type": "display_data"
    }
   ],
   "source": [
    "df[\"bath\"].plot(kind=\"box\", vert=False)"
   ]
  },
  {
   "cell_type": "code",
   "execution_count": 23,
   "id": "abf363b2",
   "metadata": {},
   "outputs": [
    {
     "data": {
      "text/plain": [
       "<Axes: >"
      ]
     },
     "execution_count": 23,
     "metadata": {},
     "output_type": "execute_result"
    },
    {
     "data": {
      "image/png": "[encoded data removed]",
      "text/plain": [
       "<Figure size 432x288 with 1 Axes>"
      ]
     },
     "metadata": {
      "needs_background": "light"
     },
     "output_type": "display_data"
    }
   ],
   "source": [
    "df[\"bed\"].plot(kind=\"box\", vert=False)"
   ]
  },
  {
   "cell_type": "code",
   "execution_count": 24,
   "id": "56456abd",
   "metadata": {},
   "outputs": [
    {
     "data": {
      "text/plain": [
       "<Axes: >"
      ]
     },
     "execution_count": 24,
     "metadata": {},
     "output_type": "execute_result"
    },
    {
     "data": {
      "image/png": "[encoded data removed]",
      "text/plain": [
       "<Figure size 432x288 with 1 Axes>"
      ]
     },
     "metadata": {
      "needs_background": "light"
     },
     "output_type": "display_data"
    }
   ],
   "source": [
    "df[\"acre_lot\"].plot(kind=\"box\", vert=False)"
   ]
  },
  {
   "cell_type": "code",
   "execution_count": 25,
   "id": "1e4647e9",
   "metadata": {},
   "outputs": [
    {
     "data": {
      "text/plain": [
       "bed           0\n",
       "bath          0\n",
       "acre_lot      0\n",
       "state         0\n",
       "house_size    0\n",
       "price         0\n",
       "dtype: int64"
      ]
     },
     "execution_count": 25,
     "metadata": {},
     "output_type": "execute_result"
    }
   ],
   "source": [
    "df.isna().sum()"
   ]
  },
  {
   "cell_type": "markdown",
   "id": "d9c92bff",
   "metadata": {},
   "source": [
    "## Spliting the Data into X feature matrice and y column vector"
   ]
  },
  {
   "cell_type": "code",
   "execution_count": 27,
   "id": "3cbcb888",
   "metadata": {},
   "outputs": [],
   "source": [
    "X = df.drop(columns = [\"price\"])\n",
    "y = df[\"price\"]"
   ]
  },
  {
   "cell_type": "code",
   "execution_count": 28,
   "id": "3bab0454",
   "metadata": {},
   "outputs": [],
   "source": [
    "## Spliting the Data into X_train X_test, y_train, y_test\n",
    "\n",
    "X_train, X_test, y_train, y_test = train_test_split(X,y, test_size=0.2)"
   ]
  },
  {
   "cell_type": "markdown",
   "id": "e0a7141a",
   "metadata": {},
   "source": [
    "# Build Model"
   ]
  },
  {
   "cell_type": "code",
   "execution_count": 46,
   "id": "cf9b3f95",
   "metadata": {},
   "outputs": [
    {
     "name": "stdout",
     "output_type": "stream",
     "text": [
      "The baseline mean value of the price is 450976.77\n",
      "The baseline mean absolute error of the price is 187684.76\n"
     ]
    }
   ],
   "source": [
    "y_base_Line = [y_train.mean()]*len(y_train)\n",
    "y_baseline_mae = mean_absolute_error(y_train,y_base_Line)\n",
    "y_baseline_mae\n",
    "print(\"The baseline mean value of the price is\",round(y_train.mean(), 2))\n",
    "print(\"The baseline mean absolute error of the price is\",y_baseline_mae.round(2))"
   ]
  },
  {
   "cell_type": "markdown",
   "id": "39fcb975",
   "metadata": {},
   "source": [
    "## Iterate"
   ]
  },
  {
   "cell_type": "code",
   "execution_count": 49,
   "id": "499cddbd",
   "metadata": {},
   "outputs": [
    {
     "data": {
      "text/html": [
       "<style>#sk-container-id-1 {color: black;}#sk-container-id-1 pre{padding: 0;}#sk-container-id-1 div.sk-toggleable {background-color: white;}#sk-container-id-1 label.sk-toggleable__label {cursor: pointer;display: block;width: 100%;margin-bottom: 0;padding: 0.3em;box-sizing: border-box;text-align: center;}#sk-container-id-1 label.sk-toggleable__label-arrow:before {content: \"▸\";float: left;margin-right: 0.25em;color: #696969;}#sk-container-id-1 label.sk-toggleable__label-arrow:hover:before {color: black;}#sk-container-id-1 div.sk-estimator:hover label.sk-toggleable__label-arrow:before {color: black;}#sk-container-id-1 div.sk-toggleable__content {max-height: 0;max-width: 0;overflow: hidden;text-align: left;background-color: #f0f8ff;}#sk-container-id-1 div.sk-toggleable__content pre {margin: 0.2em;color: black;border-radius: 0.25em;background-color: #f0f8ff;}#sk-container-id-1 input.sk-toggleable__control:checked~div.sk-toggleable__content {max-height: 200px;max-width: 100%;overflow: auto;}#sk-container-id-1 input.sk-toggleable__control:checked~label.sk-toggleable__label-arrow:before {content: \"▾\";}#sk-container-id-1 div.sk-estimator input.sk-toggleable__control:checked~label.sk-toggleable__label {background-color: #d4ebff;}#sk-container-id-1 div.sk-label input.sk-toggleable__control:checked~label.sk-toggleable__label {background-color: #d4ebff;}#sk-container-id-1 input.sk-hidden--visually {border: 0;clip: rect(1px 1px 1px 1px);clip: rect(1px, 1px, 1px, 1px);height: 1px;margin: -1px;overflow: hidden;padding: 0;position: absolute;width: 1px;}#sk-container-id-1 div.sk-estimator {font-family: monospace;background-color: #f0f8ff;border: 1px dotted black;border-radius: 0.25em;box-sizing: border-box;margin-bottom: 0.5em;}#sk-container-id-1 div.sk-estimator:hover {background-color: #d4ebff;}#sk-container-id-1 div.sk-parallel-item::after {content: \"\";width: 100%;border-bottom: 1px solid gray;flex-grow: 1;}#sk-container-id-1 div.sk-label:hover label.sk-toggleable__label {background-color: #d4ebff;}#sk-container-id-1 div.sk-serial::before {content: \"\";position: absolute;border-left: 1px solid gray;box-sizing: border-box;top: 0;bottom: 0;left: 50%;z-index: 0;}#sk-container-id-1 div.sk-serial {display: flex;flex-direction: column;align-items: center;background-color: white;padding-right: 0.2em;padding-left: 0.2em;position: relative;}#sk-container-id-1 div.sk-item {position: relative;z-index: 1;}#sk-container-id-1 div.sk-parallel {display: flex;align-items: stretch;justify-content: center;background-color: white;position: relative;}#sk-container-id-1 div.sk-item::before, #sk-container-id-1 div.sk-parallel-item::before {content: \"\";position: absolute;border-left: 1px solid gray;box-sizing: border-box;top: 0;bottom: 0;left: 50%;z-index: -1;}#sk-container-id-1 div.sk-parallel-item {display: flex;flex-direction: column;z-index: 1;position: relative;background-color: white;}#sk-container-id-1 div.sk-parallel-item:first-child::after {align-self: flex-end;width: 50%;}#sk-container-id-1 div.sk-parallel-item:last-child::after {align-self: flex-start;width: 50%;}#sk-container-id-1 div.sk-parallel-item:only-child::after {width: 0;}#sk-container-id-1 div.sk-dashed-wrapped {border: 1px dashed gray;margin: 0 0.4em 0.5em 0.4em;box-sizing: border-box;padding-bottom: 0.4em;background-color: white;}#sk-container-id-1 div.sk-label label {font-family: monospace;font-weight: bold;display: inline-block;line-height: 1.2em;}#sk-container-id-1 div.sk-label-container {text-align: center;}#sk-container-id-1 div.sk-container {/* jupyter's `normalize.less` sets `[hidden] { display: none; }` but bootstrap.min.css set `[hidden] { display: none !important; }` so we also need the `!important` here to be able to override the default hidden behavior on the sphinx rendered scikit-learn.org. See: https://github.com/scikit-learn/scikit-learn/issues/21755 */display: inline-block !important;position: relative;}#sk-container-id-1 div.sk-text-repr-fallback {display: none;}</style><div id=\"sk-container-id-1\" class=\"sk-top-container\"><div class=\"sk-text-repr-fallback\"><pre>Pipeline(steps=[(&#x27;onehotencoder&#x27;, OneHotEncoder()),\n",
       "                (&#x27;sgdregressor&#x27;, SGDRegressor())])</pre><b>In a Jupyter environment, please rerun this cell to show the HTML representation or trust the notebook. <br />On GitHub, the HTML representation is unable to render, please try loading this page with nbviewer.org.</b></div><div class=\"sk-container\" hidden><div class=\"sk-item sk-dashed-wrapped\"><div class=\"sk-label-container\"><div class=\"sk-label sk-toggleable\"><input class=\"sk-toggleable__control sk-hidden--visually\" id=\"sk-estimator-id-1\" type=\"checkbox\" ><label for=\"sk-estimator-id-1\" class=\"sk-toggleable__label sk-toggleable__label-arrow\">Pipeline</label><div class=\"sk-toggleable__content\"><pre>Pipeline(steps=[(&#x27;onehotencoder&#x27;, OneHotEncoder()),\n",
       "                (&#x27;sgdregressor&#x27;, SGDRegressor())])</pre></div></div></div><div class=\"sk-serial\"><div class=\"sk-item\"><div class=\"sk-estimator sk-toggleable\"><input class=\"sk-toggleable__control sk-hidden--visually\" id=\"sk-estimator-id-2\" type=\"checkbox\" ><label for=\"sk-estimator-id-2\" class=\"sk-toggleable__label sk-toggleable__label-arrow\">OneHotEncoder</label><div class=\"sk-toggleable__content\"><pre>OneHotEncoder()</pre></div></div></div><div class=\"sk-item\"><div class=\"sk-estimator sk-toggleable\"><input class=\"sk-toggleable__control sk-hidden--visually\" id=\"sk-estimator-id-3\" type=\"checkbox\" ><label for=\"sk-estimator-id-3\" class=\"sk-toggleable__label sk-toggleable__label-arrow\">SGDRegressor</label><div class=\"sk-toggleable__content\"><pre>SGDRegressor()</pre></div></div></div></div></div></div></div>"
      ],
      "text/plain": [
       "Pipeline(steps=[('onehotencoder', OneHotEncoder()),\n",
       "                ('sgdregressor', SGDRegressor())])"
      ]
     },
     "execution_count": 49,
     "metadata": {},
     "output_type": "execute_result"
    }
   ],
   "source": [
    "model = make_pipeline(\n",
    "    OneHotEncoder(),\n",
    "    SGDRegressor()\n",
    "\n",
    ")\n",
    "model.fit(X_train, y_train)"
   ]
  },
  {
   "cell_type": "code",
   "execution_count": 54,
   "id": "239037f8",
   "metadata": {},
   "outputs": [
    {
     "name": "stdout",
     "output_type": "stream",
     "text": [
      "The MAE is  123222.99533351147\n"
     ]
    }
   ],
   "source": [
    "y_pred = model.predict(X_train)\n",
    "\n",
    "mean_abs_err = mean_absolute_error(y_train,y_pred)\n",
    "print(\"The Mean Absolute Error is \",mean_abs_err)"
   ]
  },
  {
   "cell_type": "code",
   "execution_count": 56,
   "id": "e489a5c4",
   "metadata": {},
   "outputs": [
    {
     "data": {
      "text/html": [
       "<style>#sk-container-id-2 {color: black;}#sk-container-id-2 pre{padding: 0;}#sk-container-id-2 div.sk-toggleable {background-color: white;}#sk-container-id-2 label.sk-toggleable__label {cursor: pointer;display: block;width: 100%;margin-bottom: 0;padding: 0.3em;box-sizing: border-box;text-align: center;}#sk-container-id-2 label.sk-toggleable__label-arrow:before {content: \"▸\";float: left;margin-right: 0.25em;color: #696969;}#sk-container-id-2 label.sk-toggleable__label-arrow:hover:before {color: black;}#sk-container-id-2 div.sk-estimator:hover label.sk-toggleable__label-arrow:before {color: black;}#sk-container-id-2 div.sk-toggleable__content {max-height: 0;max-width: 0;overflow: hidden;text-align: left;background-color: #f0f8ff;}#sk-container-id-2 div.sk-toggleable__content pre {margin: 0.2em;color: black;border-radius: 0.25em;background-color: #f0f8ff;}#sk-container-id-2 input.sk-toggleable__control:checked~div.sk-toggleable__content {max-height: 200px;max-width: 100%;overflow: auto;}#sk-container-id-2 input.sk-toggleable__control:checked~label.sk-toggleable__label-arrow:before {content: \"▾\";}#sk-container-id-2 div.sk-estimator input.sk-toggleable__control:checked~label.sk-toggleable__label {background-color: #d4ebff;}#sk-container-id-2 div.sk-label input.sk-toggleable__control:checked~label.sk-toggleable__label {background-color: #d4ebff;}#sk-container-id-2 input.sk-hidden--visually {border: 0;clip: rect(1px 1px 1px 1px);clip: rect(1px, 1px, 1px, 1px);height: 1px;margin: -1px;overflow: hidden;padding: 0;position: absolute;width: 1px;}#sk-container-id-2 div.sk-estimator {font-family: monospace;background-color: #f0f8ff;border: 1px dotted black;border-radius: 0.25em;box-sizing: border-box;margin-bottom: 0.5em;}#sk-container-id-2 div.sk-estimator:hover {background-color: #d4ebff;}#sk-container-id-2 div.sk-parallel-item::after {content: \"\";width: 100%;border-bottom: 1px solid gray;flex-grow: 1;}#sk-container-id-2 div.sk-label:hover label.sk-toggleable__label {background-color: #d4ebff;}#sk-container-id-2 div.sk-serial::before {content: \"\";position: absolute;border-left: 1px solid gray;box-sizing: border-box;top: 0;bottom: 0;left: 50%;z-index: 0;}#sk-container-id-2 div.sk-serial {display: flex;flex-direction: column;align-items: center;background-color: white;padding-right: 0.2em;padding-left: 0.2em;position: relative;}#sk-container-id-2 div.sk-item {position: relative;z-index: 1;}#sk-container-id-2 div.sk-parallel {display: flex;align-items: stretch;justify-content: center;background-color: white;position: relative;}#sk-container-id-2 div.sk-item::before, #sk-container-id-2 div.sk-parallel-item::before {content: \"\";position: absolute;border-left: 1px solid gray;box-sizing: border-box;top: 0;bottom: 0;left: 50%;z-index: -1;}#sk-container-id-2 div.sk-parallel-item {display: flex;flex-direction: column;z-index: 1;position: relative;background-color: white;}#sk-container-id-2 div.sk-parallel-item:first-child::after {align-self: flex-end;width: 50%;}#sk-container-id-2 div.sk-parallel-item:last-child::after {align-self: flex-start;width: 50%;}#sk-container-id-2 div.sk-parallel-item:only-child::after {width: 0;}#sk-container-id-2 div.sk-dashed-wrapped {border: 1px dashed gray;margin: 0 0.4em 0.5em 0.4em;box-sizing: border-box;padding-bottom: 0.4em;background-color: white;}#sk-container-id-2 div.sk-label label {font-family: monospace;font-weight: bold;display: inline-block;line-height: 1.2em;}#sk-container-id-2 div.sk-label-container {text-align: center;}#sk-container-id-2 div.sk-container {/* jupyter's `normalize.less` sets `[hidden] { display: none; }` but bootstrap.min.css set `[hidden] { display: none !important; }` so we also need the `!important` here to be able to override the default hidden behavior on the sphinx rendered scikit-learn.org. See: https://github.com/scikit-learn/scikit-learn/issues/21755 */display: inline-block !important;position: relative;}#sk-container-id-2 div.sk-text-repr-fallback {display: none;}</style><div id=\"sk-container-id-2\" class=\"sk-top-container\"><div class=\"sk-text-repr-fallback\"><pre>Pipeline(steps=[(&#x27;onehotencoder&#x27;, OneHotEncoder()),\n",
       "                (&#x27;sgdregressor&#x27;, SGDRegressor())])</pre><b>In a Jupyter environment, please rerun this cell to show the HTML representation or trust the notebook. <br />On GitHub, the HTML representation is unable to render, please try loading this page with nbviewer.org.</b></div><div class=\"sk-container\" hidden><div class=\"sk-item sk-dashed-wrapped\"><div class=\"sk-label-container\"><div class=\"sk-label sk-toggleable\"><input class=\"sk-toggleable__control sk-hidden--visually\" id=\"sk-estimator-id-4\" type=\"checkbox\" ><label for=\"sk-estimator-id-4\" class=\"sk-toggleable__label sk-toggleable__label-arrow\">Pipeline</label><div class=\"sk-toggleable__content\"><pre>Pipeline(steps=[(&#x27;onehotencoder&#x27;, OneHotEncoder()),\n",
       "                (&#x27;sgdregressor&#x27;, SGDRegressor())])</pre></div></div></div><div class=\"sk-serial\"><div class=\"sk-item\"><div class=\"sk-estimator sk-toggleable\"><input class=\"sk-toggleable__control sk-hidden--visually\" id=\"sk-estimator-id-5\" type=\"checkbox\" ><label for=\"sk-estimator-id-5\" class=\"sk-toggleable__label sk-toggleable__label-arrow\">OneHotEncoder</label><div class=\"sk-toggleable__content\"><pre>OneHotEncoder()</pre></div></div></div><div class=\"sk-item\"><div class=\"sk-estimator sk-toggleable\"><input class=\"sk-toggleable__control sk-hidden--visually\" id=\"sk-estimator-id-6\" type=\"checkbox\" ><label for=\"sk-estimator-id-6\" class=\"sk-toggleable__label sk-toggleable__label-arrow\">SGDRegressor</label><div class=\"sk-toggleable__content\"><pre>SGDRegressor()</pre></div></div></div></div></div></div></div>"
      ],
      "text/plain": [
       "Pipeline(steps=[('onehotencoder', OneHotEncoder()),\n",
       "                ('sgdregressor', SGDRegressor())])"
      ]
     },
     "execution_count": 56,
     "metadata": {},
     "output_type": "execute_result"
    }
   ],
   "source": [
    "model.fit(X_test, y_test)"
   ]
  },
  {
   "cell_type": "code",
   "execution_count": 59,
   "id": "9489dca0",
   "metadata": {},
   "outputs": [
    {
     "data": {
      "text/plain": [
       "0        404714.495687\n",
       "1        503837.962712\n",
       "2        452991.472454\n",
       "3        355708.719733\n",
       "4        453129.345753\n",
       "             ...      \n",
       "36462    413839.528981\n",
       "36463    288984.014319\n",
       "36464    503200.823860\n",
       "36465    389675.742775\n",
       "36466    319556.856018\n",
       "Length: 36467, dtype: float64"
      ]
     },
     "execution_count": 59,
     "metadata": {},
     "output_type": "execute_result"
    }
   ],
   "source": [
    "y_pred_Test = pd.Series(model.predict(X_test))\n",
    "y_pred_Test"
   ]
  },
  {
   "cell_type": "code",
   "execution_count": 60,
   "id": "e523ef39",
   "metadata": {},
   "outputs": [
    {
     "data": {
      "text/html": [
       "<div>\n",
       "<style scoped>\n",
       "    .dataframe tbody tr th:only-of-type {\n",
       "        vertical-align: middle;\n",
       "    }\n",
       "\n",
       "    .dataframe tbody tr th {\n",
       "        vertical-align: top;\n",
       "    }\n",
       "\n",
       "    .dataframe thead th {\n",
       "        text-align: right;\n",
       "    }\n",
       "</style>\n",
       "<table border=\"1\" class=\"dataframe\">\n",
       "  <thead>\n",
       "    <tr style=\"text-align: right;\">\n",
       "      <th></th>\n",
       "      <th>bed</th>\n",
       "      <th>bath</th>\n",
       "      <th>acre_lot</th>\n",
       "      <th>state</th>\n",
       "      <th>house_size</th>\n",
       "      <th>price</th>\n",
       "    </tr>\n",
       "  </thead>\n",
       "  <tbody>\n",
       "    <tr>\n",
       "      <th>3</th>\n",
       "      <td>4.0</td>\n",
       "      <td>2.0</td>\n",
       "      <td>0.10</td>\n",
       "      <td>Puerto Rico</td>\n",
       "      <td>1800.0</td>\n",
       "      <td>145000.0</td>\n",
       "    </tr>\n",
       "    <tr>\n",
       "      <th>5</th>\n",
       "      <td>4.0</td>\n",
       "      <td>3.0</td>\n",
       "      <td>0.46</td>\n",
       "      <td>Puerto Rico</td>\n",
       "      <td>2520.0</td>\n",
       "      <td>179000.0</td>\n",
       "    </tr>\n",
       "    <tr>\n",
       "      <th>11</th>\n",
       "      <td>3.0</td>\n",
       "      <td>2.0</td>\n",
       "      <td>0.08</td>\n",
       "      <td>Puerto Rico</td>\n",
       "      <td>1045.0</td>\n",
       "      <td>150000.0</td>\n",
       "    </tr>\n",
       "    <tr>\n",
       "      <th>22</th>\n",
       "      <td>3.0</td>\n",
       "      <td>1.0</td>\n",
       "      <td>2.00</td>\n",
       "      <td>Puerto Rico</td>\n",
       "      <td>1213.0</td>\n",
       "      <td>189000.0</td>\n",
       "    </tr>\n",
       "    <tr>\n",
       "      <th>25</th>\n",
       "      <td>3.0</td>\n",
       "      <td>2.0</td>\n",
       "      <td>0.28</td>\n",
       "      <td>Puerto Rico</td>\n",
       "      <td>1500.0</td>\n",
       "      <td>255000.0</td>\n",
       "    </tr>\n",
       "    <tr>\n",
       "      <th>...</th>\n",
       "      <td>...</td>\n",
       "      <td>...</td>\n",
       "      <td>...</td>\n",
       "      <td>...</td>\n",
       "      <td>...</td>\n",
       "      <td>...</td>\n",
       "    </tr>\n",
       "    <tr>\n",
       "      <th>904904</th>\n",
       "      <td>3.0</td>\n",
       "      <td>2.0</td>\n",
       "      <td>0.34</td>\n",
       "      <td>New York</td>\n",
       "      <td>1560.0</td>\n",
       "      <td>690000.0</td>\n",
       "    </tr>\n",
       "    <tr>\n",
       "      <th>904907</th>\n",
       "      <td>3.0</td>\n",
       "      <td>4.0</td>\n",
       "      <td>0.15</td>\n",
       "      <td>New York</td>\n",
       "      <td>2600.0</td>\n",
       "      <td>749900.0</td>\n",
       "    </tr>\n",
       "    <tr>\n",
       "      <th>904908</th>\n",
       "      <td>3.0</td>\n",
       "      <td>4.0</td>\n",
       "      <td>1.63</td>\n",
       "      <td>New York</td>\n",
       "      <td>2688.0</td>\n",
       "      <td>1475000.0</td>\n",
       "    </tr>\n",
       "    <tr>\n",
       "      <th>904916</th>\n",
       "      <td>3.0</td>\n",
       "      <td>3.0</td>\n",
       "      <td>2.03</td>\n",
       "      <td>New York</td>\n",
       "      <td>2182.0</td>\n",
       "      <td>899000.0</td>\n",
       "    </tr>\n",
       "    <tr>\n",
       "      <th>904918</th>\n",
       "      <td>4.0</td>\n",
       "      <td>3.0</td>\n",
       "      <td>0.23</td>\n",
       "      <td>New York</td>\n",
       "      <td>2500.0</td>\n",
       "      <td>1250000.0</td>\n",
       "    </tr>\n",
       "  </tbody>\n",
       "</table>\n",
       "<p>182335 rows × 6 columns</p>\n",
       "</div>"
      ],
      "text/plain": [
       "        bed  bath  acre_lot        state  house_size      price\n",
       "3       4.0   2.0      0.10  Puerto Rico      1800.0   145000.0\n",
       "5       4.0   3.0      0.46  Puerto Rico      2520.0   179000.0\n",
       "11      3.0   2.0      0.08  Puerto Rico      1045.0   150000.0\n",
       "22      3.0   1.0      2.00  Puerto Rico      1213.0   189000.0\n",
       "25      3.0   2.0      0.28  Puerto Rico      1500.0   255000.0\n",
       "...     ...   ...       ...          ...         ...        ...\n",
       "904904  3.0   2.0      0.34     New York      1560.0   690000.0\n",
       "904907  3.0   4.0      0.15     New York      2600.0   749900.0\n",
       "904908  3.0   4.0      1.63     New York      2688.0  1475000.0\n",
       "904916  3.0   3.0      2.03     New York      2182.0   899000.0\n",
       "904918  4.0   3.0      0.23     New York      2500.0  1250000.0\n",
       "\n",
       "[182335 rows x 6 columns]"
      ]
     },
     "execution_count": 60,
     "metadata": {},
     "output_type": "execute_result"
    }
   ],
   "source": [
    "df"
   ]
  },
  {
   "cell_type": "markdown",
   "id": "e00ef2a8",
   "metadata": {},
   "source": [
    "## Communicating Our Results to Stakeholders"
   ]
  },
  {
   "cell_type": "code",
   "execution_count": 116,
   "id": "95906897",
   "metadata": {},
   "outputs": [],
   "source": [
    "feature_names = model.named_steps['onehotencoder'].get_feature_names_out()"
   ]
  },
  {
   "cell_type": "code",
   "execution_count": 117,
   "id": "2c058b1d",
   "metadata": {},
   "outputs": [
    {
     "data": {
      "text/plain": [
       "array(['bed_2.0', 'bed_3.0', 'bed_4.0', ..., 'house_size_2748.0',\n",
       "       'house_size_2749.0', 'house_size_2750.0'], dtype=object)"
      ]
     },
     "execution_count": 117,
     "metadata": {},
     "output_type": "execute_result"
    }
   ],
   "source": [
    "feature_names"
   ]
  },
  {
   "cell_type": "code",
   "execution_count": 122,
   "id": "61837774",
   "metadata": {},
   "outputs": [
    {
     "data": {
      "text/plain": [
       "array([240656.06497932, 218133.5768911 , 213162.11164851, ...,\n",
       "       -30143.47026052, -27541.02583831,  81030.4356907 ])"
      ]
     },
     "execution_count": 122,
     "metadata": {},
     "output_type": "execute_result"
    }
   ],
   "source": [
    "coefficients = model.named_steps['sgdregressor'].coef_\n",
    "coefficients"
   ]
  },
  {
   "cell_type": "code",
   "execution_count": 124,
   "id": "8e957a3f",
   "metadata": {},
   "outputs": [
    {
     "data": {
      "text/plain": [
       "1959"
      ]
     },
     "execution_count": 124,
     "metadata": {},
     "output_type": "execute_result"
    }
   ],
   "source": [
    "feat_imp = pd.Series(coefficients, index = feature_names )\n",
    "len(feat_imp)"
   ]
  },
  {
   "cell_type": "code",
   "execution_count": 127,
   "id": "8966774e",
   "metadata": {},
   "outputs": [
    {
     "data": {
      "text/plain": [
       "<Axes: >"
      ]
     },
     "execution_count": 127,
     "metadata": {},
     "output_type": "execute_result"
    },
    {
     "data": {
      "image/png": "[encoded data removed]",
      "text/plain": [
       "<Figure size 432x288 with 1 Axes>"
      ]
     },
     "metadata": {
      "needs_background": "light"
     },
     "output_type": "display_data"
    }
   ],
   "source": [
    "feat_imp.sort_values(key=abs).tail(10).plot(kind ='barh')"
   ]
  },
  {
   "cell_type": "code",
   "execution_count": 74,
   "id": "985c2ad7",
   "metadata": {},
   "outputs": [],
   "source": [
    "def make_prediction(bed, bath, acre_lot,state, house_size):\n",
    "    data = {\n",
    "        \"bed\": bed,\n",
    "        \"bath\" : bath,\n",
    "        \"acre_lot\" : acre_lot,\n",
    "        \"state\" : state ,\n",
    "        \"house_size\":house_size\n",
    "              \n",
    "    }\n",
    "    df = pd.DataFrame(data, index=[0])\n",
    "    \n",
    "    prediction = model.predict(df).round(2)[0]\n",
    "    return f\"Predicted apartment price: ${prediction}\""
   ]
  },
  {
   "cell_type": "code",
   "execution_count": 77,
   "id": "30a5f692",
   "metadata": {},
   "outputs": [
    {
     "data": {
      "text/plain": [
       "'Predicted apartment price: $295730.74'"
      ]
     },
     "execution_count": 77,
     "metadata": {},
     "output_type": "execute_result"
    }
   ],
   "source": [
    "make_prediction(2, 2, 0.1, \"Puerto Rico\",1800)"
   ]
  },
  {
   "cell_type": "code",
   "execution_count": 82,
   "id": "bb231597",
   "metadata": {},
   "outputs": [],
   "source": [
    "states = df[\"state\"].unique()"
   ]
  },
  {
   "cell_type": "code",
   "execution_count": 85,
   "id": "a41a703e",
   "metadata": {},
   "outputs": [
    {
     "name": "stdout",
     "output_type": "stream",
     "text": [
      "Predicted apartment price: $295730.74\n",
      "Predicted apartment price: $388395.32\n",
      "Predicted apartment price: $589988.09\n",
      "Predicted apartment price: $359734.18\n",
      "Predicted apartment price: $413843.4\n",
      "Predicted apartment price: $449799.7\n",
      "Predicted apartment price: $364997.65\n",
      "Predicted apartment price: $742161.86\n",
      "Predicted apartment price: $459751.85\n",
      "Predicted apartment price: $379581.43\n",
      "Predicted apartment price: $426780.49\n",
      "Predicted apartment price: $347404.71\n",
      "Predicted apartment price: $314564.71\n"
     ]
    }
   ],
   "source": [
    "for state in states:\n",
    "    price_by_state =make_prediction(2, 2, 0.1, state,1800)\n",
    "    print(price_by_state)"
   ]
  },
  {
   "cell_type": "code",
   "execution_count": 86,
   "id": "8b97255e",
   "metadata": {},
   "outputs": [
    {
     "data": {
      "text/html": [
       "<div>\n",
       "<style scoped>\n",
       "    .dataframe tbody tr th:only-of-type {\n",
       "        vertical-align: middle;\n",
       "    }\n",
       "\n",
       "    .dataframe tbody tr th {\n",
       "        vertical-align: top;\n",
       "    }\n",
       "\n",
       "    .dataframe thead th {\n",
       "        text-align: right;\n",
       "    }\n",
       "</style>\n",
       "<table border=\"1\" class=\"dataframe\">\n",
       "  <thead>\n",
       "    <tr style=\"text-align: right;\">\n",
       "      <th></th>\n",
       "      <th>bed</th>\n",
       "      <th>bath</th>\n",
       "      <th>acre_lot</th>\n",
       "      <th>state</th>\n",
       "      <th>house_size</th>\n",
       "      <th>price</th>\n",
       "    </tr>\n",
       "  </thead>\n",
       "  <tbody>\n",
       "    <tr>\n",
       "      <th>3</th>\n",
       "      <td>4.0</td>\n",
       "      <td>2.0</td>\n",
       "      <td>0.10</td>\n",
       "      <td>Puerto Rico</td>\n",
       "      <td>1800.0</td>\n",
       "      <td>145000.0</td>\n",
       "    </tr>\n",
       "    <tr>\n",
       "      <th>5</th>\n",
       "      <td>4.0</td>\n",
       "      <td>3.0</td>\n",
       "      <td>0.46</td>\n",
       "      <td>Puerto Rico</td>\n",
       "      <td>2520.0</td>\n",
       "      <td>179000.0</td>\n",
       "    </tr>\n",
       "    <tr>\n",
       "      <th>11</th>\n",
       "      <td>3.0</td>\n",
       "      <td>2.0</td>\n",
       "      <td>0.08</td>\n",
       "      <td>Puerto Rico</td>\n",
       "      <td>1045.0</td>\n",
       "      <td>150000.0</td>\n",
       "    </tr>\n",
       "    <tr>\n",
       "      <th>22</th>\n",
       "      <td>3.0</td>\n",
       "      <td>1.0</td>\n",
       "      <td>2.00</td>\n",
       "      <td>Puerto Rico</td>\n",
       "      <td>1213.0</td>\n",
       "      <td>189000.0</td>\n",
       "    </tr>\n",
       "    <tr>\n",
       "      <th>25</th>\n",
       "      <td>3.0</td>\n",
       "      <td>2.0</td>\n",
       "      <td>0.28</td>\n",
       "      <td>Puerto Rico</td>\n",
       "      <td>1500.0</td>\n",
       "      <td>255000.0</td>\n",
       "    </tr>\n",
       "    <tr>\n",
       "      <th>...</th>\n",
       "      <td>...</td>\n",
       "      <td>...</td>\n",
       "      <td>...</td>\n",
       "      <td>...</td>\n",
       "      <td>...</td>\n",
       "      <td>...</td>\n",
       "    </tr>\n",
       "    <tr>\n",
       "      <th>904904</th>\n",
       "      <td>3.0</td>\n",
       "      <td>2.0</td>\n",
       "      <td>0.34</td>\n",
       "      <td>New York</td>\n",
       "      <td>1560.0</td>\n",
       "      <td>690000.0</td>\n",
       "    </tr>\n",
       "    <tr>\n",
       "      <th>904907</th>\n",
       "      <td>3.0</td>\n",
       "      <td>4.0</td>\n",
       "      <td>0.15</td>\n",
       "      <td>New York</td>\n",
       "      <td>2600.0</td>\n",
       "      <td>749900.0</td>\n",
       "    </tr>\n",
       "    <tr>\n",
       "      <th>904908</th>\n",
       "      <td>3.0</td>\n",
       "      <td>4.0</td>\n",
       "      <td>1.63</td>\n",
       "      <td>New York</td>\n",
       "      <td>2688.0</td>\n",
       "      <td>1475000.0</td>\n",
       "    </tr>\n",
       "    <tr>\n",
       "      <th>904916</th>\n",
       "      <td>3.0</td>\n",
       "      <td>3.0</td>\n",
       "      <td>2.03</td>\n",
       "      <td>New York</td>\n",
       "      <td>2182.0</td>\n",
       "      <td>899000.0</td>\n",
       "    </tr>\n",
       "    <tr>\n",
       "      <th>904918</th>\n",
       "      <td>4.0</td>\n",
       "      <td>3.0</td>\n",
       "      <td>0.23</td>\n",
       "      <td>New York</td>\n",
       "      <td>2500.0</td>\n",
       "      <td>1250000.0</td>\n",
       "    </tr>\n",
       "  </tbody>\n",
       "</table>\n",
       "<p>182335 rows × 6 columns</p>\n",
       "</div>"
      ],
      "text/plain": [
       "        bed  bath  acre_lot        state  house_size      price\n",
       "3       4.0   2.0      0.10  Puerto Rico      1800.0   145000.0\n",
       "5       4.0   3.0      0.46  Puerto Rico      2520.0   179000.0\n",
       "11      3.0   2.0      0.08  Puerto Rico      1045.0   150000.0\n",
       "22      3.0   1.0      2.00  Puerto Rico      1213.0   189000.0\n",
       "25      3.0   2.0      0.28  Puerto Rico      1500.0   255000.0\n",
       "...     ...   ...       ...          ...         ...        ...\n",
       "904904  3.0   2.0      0.34     New York      1560.0   690000.0\n",
       "904907  3.0   4.0      0.15     New York      2600.0   749900.0\n",
       "904908  3.0   4.0      1.63     New York      2688.0  1475000.0\n",
       "904916  3.0   3.0      2.03     New York      2182.0   899000.0\n",
       "904918  4.0   3.0      0.23     New York      2500.0  1250000.0\n",
       "\n",
       "[182335 rows x 6 columns]"
      ]
     },
     "execution_count": 86,
     "metadata": {},
     "output_type": "execute_result"
    }
   ],
   "source": [
    "df"
   ]
  },
  {
   "cell_type": "code",
   "execution_count": 91,
   "id": "aff400a0",
   "metadata": {},
   "outputs": [
    {
     "data": {
      "text/html": [
       "<div>\n",
       "<style scoped>\n",
       "    .dataframe tbody tr th:only-of-type {\n",
       "        vertical-align: middle;\n",
       "    }\n",
       "\n",
       "    .dataframe tbody tr th {\n",
       "        vertical-align: top;\n",
       "    }\n",
       "\n",
       "    .dataframe thead th {\n",
       "        text-align: right;\n",
       "    }\n",
       "</style>\n",
       "<table border=\"1\" class=\"dataframe\">\n",
       "  <thead>\n",
       "    <tr style=\"text-align: right;\">\n",
       "      <th></th>\n",
       "      <th>bed</th>\n",
       "      <th>bath</th>\n",
       "      <th>acre_lot</th>\n",
       "      <th>state</th>\n",
       "      <th>house_size</th>\n",
       "    </tr>\n",
       "  </thead>\n",
       "  <tbody>\n",
       "    <tr>\n",
       "      <th>409157</th>\n",
       "      <td>3.0</td>\n",
       "      <td>2.0</td>\n",
       "      <td>0.46</td>\n",
       "      <td>Massachusetts</td>\n",
       "      <td>1747.0</td>\n",
       "    </tr>\n",
       "    <tr>\n",
       "      <th>608788</th>\n",
       "      <td>4.0</td>\n",
       "      <td>4.0</td>\n",
       "      <td>0.46</td>\n",
       "      <td>New Jersey</td>\n",
       "      <td>1972.0</td>\n",
       "    </tr>\n",
       "    <tr>\n",
       "      <th>37541</th>\n",
       "      <td>2.0</td>\n",
       "      <td>1.0</td>\n",
       "      <td>1.05</td>\n",
       "      <td>Massachusetts</td>\n",
       "      <td>1768.0</td>\n",
       "    </tr>\n",
       "    <tr>\n",
       "      <th>415351</th>\n",
       "      <td>3.0</td>\n",
       "      <td>2.0</td>\n",
       "      <td>0.28</td>\n",
       "      <td>Connecticut</td>\n",
       "      <td>1357.0</td>\n",
       "    </tr>\n",
       "    <tr>\n",
       "      <th>699560</th>\n",
       "      <td>2.0</td>\n",
       "      <td>2.0</td>\n",
       "      <td>0.10</td>\n",
       "      <td>New Jersey</td>\n",
       "      <td>1118.0</td>\n",
       "    </tr>\n",
       "    <tr>\n",
       "      <th>...</th>\n",
       "      <td>...</td>\n",
       "      <td>...</td>\n",
       "      <td>...</td>\n",
       "      <td>...</td>\n",
       "      <td>...</td>\n",
       "    </tr>\n",
       "    <tr>\n",
       "      <th>388962</th>\n",
       "      <td>3.0</td>\n",
       "      <td>3.0</td>\n",
       "      <td>0.86</td>\n",
       "      <td>Connecticut</td>\n",
       "      <td>1212.0</td>\n",
       "    </tr>\n",
       "    <tr>\n",
       "      <th>685856</th>\n",
       "      <td>3.0</td>\n",
       "      <td>1.0</td>\n",
       "      <td>0.21</td>\n",
       "      <td>New Jersey</td>\n",
       "      <td>1169.0</td>\n",
       "    </tr>\n",
       "    <tr>\n",
       "      <th>61555</th>\n",
       "      <td>3.0</td>\n",
       "      <td>2.0</td>\n",
       "      <td>0.18</td>\n",
       "      <td>Connecticut</td>\n",
       "      <td>1378.0</td>\n",
       "    </tr>\n",
       "    <tr>\n",
       "      <th>640685</th>\n",
       "      <td>3.0</td>\n",
       "      <td>2.0</td>\n",
       "      <td>0.26</td>\n",
       "      <td>Delaware</td>\n",
       "      <td>1225.0</td>\n",
       "    </tr>\n",
       "    <tr>\n",
       "      <th>89941</th>\n",
       "      <td>3.0</td>\n",
       "      <td>3.0</td>\n",
       "      <td>0.20</td>\n",
       "      <td>Massachusetts</td>\n",
       "      <td>2676.0</td>\n",
       "    </tr>\n",
       "  </tbody>\n",
       "</table>\n",
       "<p>145868 rows × 5 columns</p>\n",
       "</div>"
      ],
      "text/plain": [
       "        bed  bath  acre_lot          state  house_size\n",
       "409157  3.0   2.0      0.46  Massachusetts      1747.0\n",
       "608788  4.0   4.0      0.46     New Jersey      1972.0\n",
       "37541   2.0   1.0      1.05  Massachusetts      1768.0\n",
       "415351  3.0   2.0      0.28    Connecticut      1357.0\n",
       "699560  2.0   2.0      0.10     New Jersey      1118.0\n",
       "...     ...   ...       ...            ...         ...\n",
       "388962  3.0   3.0      0.86    Connecticut      1212.0\n",
       "685856  3.0   1.0      0.21     New Jersey      1169.0\n",
       "61555   3.0   2.0      0.18    Connecticut      1378.0\n",
       "640685  3.0   2.0      0.26       Delaware      1225.0\n",
       "89941   3.0   3.0      0.20  Massachusetts      2676.0\n",
       "\n",
       "[145868 rows x 5 columns]"
      ]
     },
     "execution_count": 91,
     "metadata": {},
     "output_type": "execute_result"
    }
   ],
   "source": [
    "X_train"
   ]
  },
  {
   "cell_type": "code",
   "execution_count": 107,
   "id": "4b97638c",
   "metadata": {},
   "outputs": [],
   "source": [
    "import ipywidgets as widgets"
   ]
  },
  {
   "cell_type": "code",
   "execution_count": 129,
   "id": "1a7a8849",
   "metadata": {},
   "outputs": [
    {
     "data": {
      "application/vnd.jupyter.widget-view+json": {
       "model_id": "3d7b7e29755a4744b1081a732b8b1eeb",
       "version_major": 2,
       "version_minor": 0
      },
      "text/plain": [
       "interactive(children=(IntSlider(value=3, description='bed', max=4, min=2), IntSlider(value=2, description='bat…"
      ]
     },
     "metadata": {},
     "output_type": "display_data"
    }
   ],
   "source": [
    "interact(\n",
    "    make_prediction,\n",
    "    acre_lot=FloatSlider(\n",
    "        min=X_train[\"acre_lot\"].min(),\n",
    "        max=X_train[\"acre_lot\"].max(),\n",
    "        value=round(X_train[\"acre_lot\"].mean(),2),\n",
    "    ),\n",
    "    bed=widgets.IntSlider(\n",
    "        min=X_train[\"bed\"].min(),\n",
    "        max=X_train[\"bed\"].max(),\n",
    "        step=1,\n",
    "        value=(X_train[\"bed\"].mean()),\n",
    "    ),\n",
    "    bath=widgets.IntSlider(\n",
    "        min=X_train[\"bath\"].min(),\n",
    "        max=X_train[\"bath\"].max(),\n",
    "        step=1,\n",
    "        value=(X_train[\"bath\"].mean()),\n",
    "    ),\n",
    "\n",
    "    state=Dropdown(options=sorted(X_train[\"state\"].unique())),\n",
    "    \n",
    "    \n",
    "    house_size=FloatSlider(\n",
    "    min=X_train[\"house_size\"].min(),\n",
    "    max=X_train[\"house_size\"].max(),\n",
    "    step=1,\n",
    "    value=round(X_train[\"house_size\"].mean()),\n",
    "    ),\n",
    ");"
   ]
  }
 ],
 "metadata": {
  "kernelspec": {
   "display_name": "Python 3 (ipykernel)",
   "language": "python",
   "name": "python3"
  },
  "language_info": {
   "codemirror_mode": {
    "name": "ipython",
    "version": 3
   },
   "file_extension": ".py",
   "mimetype": "text/x-python",
   "name": "python",
   "nbconvert_exporter": "python",
   "pygments_lexer": "ipython3",
   "version": "3.9.12"
  }
 },
 "nbformat": 4,
 "nbformat_minor": 5
}
